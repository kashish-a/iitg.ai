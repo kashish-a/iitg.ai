{
 "cells": [
  {
   "cell_type": "code",
   "execution_count": 1,
   "id": "0377f890",
   "metadata": {
    "_cell_guid": "b1076dfc-b9ad-4769-8c92-a6c4dae69d19",
    "_uuid": "8f2839f25d086af736a60e9eeb907d3b93b6e0e5",
    "execution": {
     "iopub.execute_input": "2023-06-23T12:39:25.966378Z",
     "iopub.status.busy": "2023-06-23T12:39:25.965485Z",
     "iopub.status.idle": "2023-06-23T12:39:27.663348Z",
     "shell.execute_reply": "2023-06-23T12:39:27.662164Z"
    },
    "papermill": {
     "duration": 1.709856,
     "end_time": "2023-06-23T12:39:27.666196",
     "exception": false,
     "start_time": "2023-06-23T12:39:25.956340",
     "status": "completed"
    },
    "tags": []
   },
   "outputs": [
    {
     "name": "stdout",
     "output_type": "stream",
     "text": [
      "/kaggle/input/practice-hackathon/sample_submission.csv\n",
      "/kaggle/input/practice-hackathon/Train.csv\n",
      "/kaggle/input/practice-hackathon/Test.csv\n",
      "/kaggle/input/iitgai/Train_Data.csv\n",
      "/kaggle/input/iitgai/Test_Data1 (1).csv\n"
     ]
    }
   ],
   "source": [
    "# This Python 3 environment comes with many helpful analytics libraries installed\n",
    "# It is defined by the kaggle/python Docker image: https://github.com/kaggle/docker-python\n",
    "# For example, here's several helpful packages to load\n",
    "\n",
    "\n",
    "import numpy as np # linear algebra\n",
    "import pandas as pd # data processing, CSV file I/O (e.g. pd.read_csv)\n",
    "from sklearn import preprocessing\n",
    "from sklearn.model_selection import train_test_split\n",
    "from sklearn.linear_model import LinearRegression\n",
    "from tqdm.auto import tqdm\n",
    "from sklearn.metrics import mean_squared_error\n",
    "\n",
    "\n",
    "\n",
    "# Input data files are available in the read-only \"../input/\" directory\n",
    "# For example, running this (by clicking run or pressing Shift+Enter) will list all files under the input directory\n",
    "\n",
    "import os\n",
    "for dirname, _, filenames in os.walk('/kaggle/input'):\n",
    "    for filename in filenames:\n",
    "        print(os.path.join(dirname, filename))\n",
    "\n",
    "# You can write up to 20GB to the current directory (/kaggle/working/) that gets preserved as output when you create a version using \"Save & Run All\" \n",
    "# You can also write temporary files to /kaggle/temp/, but they won't be saved outside of the current session"
   ]
  },
  {
   "cell_type": "markdown",
   "id": "1c998e58",
   "metadata": {
    "papermill": {
     "duration": 0.006606,
     "end_time": "2023-06-23T12:39:27.680348",
     "exception": false,
     "start_time": "2023-06-23T12:39:27.673742",
     "status": "completed"
    },
    "tags": []
   },
   "source": [
    "I had applied various models like decision tress, linear regression,cross validation, random forest,svm etc. \n",
    "SVM turns out to be the best model so far. As I made changes to my notebook I  kept on removing older models. Due to endsems, I am unable to rewrite and explain my approach behind all. Please consider."
   ]
  },
  {
   "cell_type": "code",
   "execution_count": 2,
   "id": "e51a8104",
   "metadata": {
    "execution": {
     "iopub.execute_input": "2023-06-23T12:39:27.696203Z",
     "iopub.status.busy": "2023-06-23T12:39:27.695749Z",
     "iopub.status.idle": "2023-06-23T12:39:27.722597Z",
     "shell.execute_reply": "2023-06-23T12:39:27.721373Z"
    },
    "papermill": {
     "duration": 0.037723,
     "end_time": "2023-06-23T12:39:27.725051",
     "exception": false,
     "start_time": "2023-06-23T12:39:27.687328",
     "status": "completed"
    },
    "tags": []
   },
   "outputs": [],
   "source": [
    "train_df = pd.read_csv(\"/kaggle/input/practice-hackathon/Train.csv\")"
   ]
  },
  {
   "cell_type": "code",
   "execution_count": 3,
   "id": "ca87b553",
   "metadata": {
    "execution": {
     "iopub.execute_input": "2023-06-23T12:39:27.741930Z",
     "iopub.status.busy": "2023-06-23T12:39:27.741577Z",
     "iopub.status.idle": "2023-06-23T12:39:27.749008Z",
     "shell.execute_reply": "2023-06-23T12:39:27.747725Z"
    },
    "papermill": {
     "duration": 0.017878,
     "end_time": "2023-06-23T12:39:27.751280",
     "exception": false,
     "start_time": "2023-06-23T12:39:27.733402",
     "status": "completed"
    },
    "tags": []
   },
   "outputs": [
    {
     "data": {
      "text/plain": [
       "(3132, 9)"
      ]
     },
     "execution_count": 3,
     "metadata": {},
     "output_type": "execute_result"
    }
   ],
   "source": [
    "train_df.shape"
   ]
  },
  {
   "cell_type": "markdown",
   "id": "abc76084",
   "metadata": {
    "papermill": {
     "duration": 0.006546,
     "end_time": "2023-06-23T12:39:27.764763",
     "exception": false,
     "start_time": "2023-06-23T12:39:27.758217",
     "status": "completed"
    },
    "tags": []
   },
   "source": []
  },
  {
   "cell_type": "code",
   "execution_count": 4,
   "id": "44f4326c",
   "metadata": {
    "execution": {
     "iopub.execute_input": "2023-06-23T12:39:27.780159Z",
     "iopub.status.busy": "2023-06-23T12:39:27.779772Z",
     "iopub.status.idle": "2023-06-23T12:39:27.814109Z",
     "shell.execute_reply": "2023-06-23T12:39:27.812997Z"
    },
    "papermill": {
     "duration": 0.044736,
     "end_time": "2023-06-23T12:39:27.816339",
     "exception": false,
     "start_time": "2023-06-23T12:39:27.771603",
     "status": "completed"
    },
    "tags": []
   },
   "outputs": [
    {
     "data": {
      "text/html": [
       "<div>\n",
       "<style scoped>\n",
       "    .dataframe tbody tr th:only-of-type {\n",
       "        vertical-align: middle;\n",
       "    }\n",
       "\n",
       "    .dataframe tbody tr th {\n",
       "        vertical-align: top;\n",
       "    }\n",
       "\n",
       "    .dataframe thead th {\n",
       "        text-align: right;\n",
       "    }\n",
       "</style>\n",
       "<table border=\"1\" class=\"dataframe\">\n",
       "  <thead>\n",
       "    <tr style=\"text-align: right;\">\n",
       "      <th></th>\n",
       "      <th>A</th>\n",
       "      <th>B</th>\n",
       "      <th>C</th>\n",
       "      <th>D</th>\n",
       "      <th>E</th>\n",
       "      <th>F</th>\n",
       "      <th>G</th>\n",
       "      <th>H</th>\n",
       "      <th>Target</th>\n",
       "    </tr>\n",
       "  </thead>\n",
       "  <tbody>\n",
       "    <tr>\n",
       "      <th>0</th>\n",
       "      <td>F</td>\n",
       "      <td>0.615</td>\n",
       "      <td>0.455</td>\n",
       "      <td>0.135</td>\n",
       "      <td>1.0590</td>\n",
       "      <td>0.4735</td>\n",
       "      <td>0.2630</td>\n",
       "      <td>0.274</td>\n",
       "      <td>9</td>\n",
       "    </tr>\n",
       "    <tr>\n",
       "      <th>1</th>\n",
       "      <td>F</td>\n",
       "      <td>0.515</td>\n",
       "      <td>0.395</td>\n",
       "      <td>0.140</td>\n",
       "      <td>0.6860</td>\n",
       "      <td>0.2810</td>\n",
       "      <td>0.1255</td>\n",
       "      <td>0.220</td>\n",
       "      <td>12</td>\n",
       "    </tr>\n",
       "    <tr>\n",
       "      <th>2</th>\n",
       "      <td>M</td>\n",
       "      <td>0.660</td>\n",
       "      <td>0.530</td>\n",
       "      <td>0.175</td>\n",
       "      <td>1.5830</td>\n",
       "      <td>0.7395</td>\n",
       "      <td>0.3505</td>\n",
       "      <td>0.405</td>\n",
       "      <td>10</td>\n",
       "    </tr>\n",
       "    <tr>\n",
       "      <th>3</th>\n",
       "      <td>M</td>\n",
       "      <td>0.455</td>\n",
       "      <td>0.365</td>\n",
       "      <td>0.095</td>\n",
       "      <td>0.5140</td>\n",
       "      <td>0.2245</td>\n",
       "      <td>0.1010</td>\n",
       "      <td>0.150</td>\n",
       "      <td>15</td>\n",
       "    </tr>\n",
       "    <tr>\n",
       "      <th>4</th>\n",
       "      <td>M</td>\n",
       "      <td>0.495</td>\n",
       "      <td>0.400</td>\n",
       "      <td>0.155</td>\n",
       "      <td>0.8085</td>\n",
       "      <td>0.2345</td>\n",
       "      <td>0.1155</td>\n",
       "      <td>0.350</td>\n",
       "      <td>6</td>\n",
       "    </tr>\n",
       "  </tbody>\n",
       "</table>\n",
       "</div>"
      ],
      "text/plain": [
       "   A      B      C      D       E       F       G      H  Target\n",
       "0  F  0.615  0.455  0.135  1.0590  0.4735  0.2630  0.274       9\n",
       "1  F  0.515  0.395  0.140  0.6860  0.2810  0.1255  0.220      12\n",
       "2  M  0.660  0.530  0.175  1.5830  0.7395  0.3505  0.405      10\n",
       "3  M  0.455  0.365  0.095  0.5140  0.2245  0.1010  0.150      15\n",
       "4  M  0.495  0.400  0.155  0.8085  0.2345  0.1155  0.350       6"
      ]
     },
     "execution_count": 4,
     "metadata": {},
     "output_type": "execute_result"
    }
   ],
   "source": [
    "train_df.head()"
   ]
  },
  {
   "cell_type": "code",
   "execution_count": 5,
   "id": "3d2bb040",
   "metadata": {
    "execution": {
     "iopub.execute_input": "2023-06-23T12:39:27.832688Z",
     "iopub.status.busy": "2023-06-23T12:39:27.831845Z",
     "iopub.status.idle": "2023-06-23T12:39:27.845195Z",
     "shell.execute_reply": "2023-06-23T12:39:27.844026Z"
    },
    "papermill": {
     "duration": 0.024037,
     "end_time": "2023-06-23T12:39:27.847445",
     "exception": false,
     "start_time": "2023-06-23T12:39:27.823408",
     "status": "completed"
    },
    "tags": []
   },
   "outputs": [
    {
     "data": {
      "text/plain": [
       "array([0, 2, 1])"
      ]
     },
     "execution_count": 5,
     "metadata": {},
     "output_type": "execute_result"
    }
   ],
   "source": [
    "## Label encoding column A of our dataset\n",
    "from sklearn import preprocessing\n",
    "  \n",
    "# label_encoder object knows \n",
    "# how to understand word labels.\n",
    "label_encoder = preprocessing.LabelEncoder()\n",
    "  \n",
    "# Encode labels in column 'species'.\n",
    "train_df['A']= label_encoder.fit_transform(train_df['A'])\n",
    "  \n",
    "train_df['A'].unique()"
   ]
  },
  {
   "cell_type": "code",
   "execution_count": 6,
   "id": "3974a6f8",
   "metadata": {
    "execution": {
     "iopub.execute_input": "2023-06-23T12:39:27.864061Z",
     "iopub.status.busy": "2023-06-23T12:39:27.863048Z",
     "iopub.status.idle": "2023-06-23T12:39:27.876185Z",
     "shell.execute_reply": "2023-06-23T12:39:27.874999Z"
    },
    "papermill": {
     "duration": 0.023932,
     "end_time": "2023-06-23T12:39:27.878616",
     "exception": false,
     "start_time": "2023-06-23T12:39:27.854684",
     "status": "completed"
    },
    "tags": []
   },
   "outputs": [],
   "source": [
    "X = train_df.drop(['Target'], axis=1)\n",
    "y = train_df['Target']"
   ]
  },
  {
   "cell_type": "code",
   "execution_count": 7,
   "id": "0ac021b2",
   "metadata": {
    "execution": {
     "iopub.execute_input": "2023-06-23T12:39:27.894888Z",
     "iopub.status.busy": "2023-06-23T12:39:27.894396Z",
     "iopub.status.idle": "2023-06-23T12:39:28.723372Z",
     "shell.execute_reply": "2023-06-23T12:39:28.722449Z"
    },
    "papermill": {
     "duration": 0.840092,
     "end_time": "2023-06-23T12:39:28.725874",
     "exception": false,
     "start_time": "2023-06-23T12:39:27.885782",
     "status": "completed"
    },
    "tags": []
   },
   "outputs": [
    {
     "data": {
      "text/plain": [
       "<Axes: >"
      ]
     },
     "execution_count": 7,
     "metadata": {},
     "output_type": "execute_result"
    },
    {
     "data": {
      "image/png": "[encoded data removed]",
      "text/plain": [
       "<Figure size 640x480 with 2 Axes>"
      ]
     },
     "metadata": {},
     "output_type": "display_data"
    }
   ],
   "source": [
    "import seaborn as sns\n",
    "%matplotlib inline\n",
    "\n",
    "sns.heatmap(train_df.corr(),annot=True)"
   ]
  },
  {
   "cell_type": "code",
   "execution_count": 8,
   "id": "63277052",
   "metadata": {
    "execution": {
     "iopub.execute_input": "2023-06-23T12:39:28.744603Z",
     "iopub.status.busy": "2023-06-23T12:39:28.744028Z",
     "iopub.status.idle": "2023-06-23T12:39:28.748792Z",
     "shell.execute_reply": "2023-06-23T12:39:28.748093Z"
    },
    "papermill": {
     "duration": 0.016636,
     "end_time": "2023-06-23T12:39:28.750869",
     "exception": false,
     "start_time": "2023-06-23T12:39:28.734233",
     "status": "completed"
    },
    "tags": []
   },
   "outputs": [],
   "source": [
    "X=X.drop([\"A\"],axis=1)"
   ]
  },
  {
   "cell_type": "code",
   "execution_count": 9,
   "id": "54fe5174",
   "metadata": {
    "execution": {
     "iopub.execute_input": "2023-06-23T12:39:28.769723Z",
     "iopub.status.busy": "2023-06-23T12:39:28.769161Z",
     "iopub.status.idle": "2023-06-23T12:39:28.774681Z",
     "shell.execute_reply": "2023-06-23T12:39:28.773906Z"
    },
    "papermill": {
     "duration": 0.017596,
     "end_time": "2023-06-23T12:39:28.776867",
     "exception": false,
     "start_time": "2023-06-23T12:39:28.759271",
     "status": "completed"
    },
    "tags": []
   },
   "outputs": [],
   "source": [
    "X_train, X_val, y_train, y_val = train_test_split(X, y, test_size = 0.1)"
   ]
  },
  {
   "cell_type": "code",
   "execution_count": 10,
   "id": "fd69b11f",
   "metadata": {
    "execution": {
     "iopub.execute_input": "2023-06-23T12:39:28.795420Z",
     "iopub.status.busy": "2023-06-23T12:39:28.795006Z",
     "iopub.status.idle": "2023-06-23T12:39:28.800216Z",
     "shell.execute_reply": "2023-06-23T12:39:28.799146Z"
    },
    "papermill": {
     "duration": 0.017365,
     "end_time": "2023-06-23T12:39:28.802719",
     "exception": false,
     "start_time": "2023-06-23T12:39:28.785354",
     "status": "completed"
    },
    "tags": []
   },
   "outputs": [],
   "source": [
    "from sklearn.svm import SVR\n",
    "from sklearn.model_selection import GridSearchCV\n",
    "from sklearn.metrics import mean_squared_error"
   ]
  },
  {
   "cell_type": "code",
   "execution_count": 11,
   "id": "78bdde8e",
   "metadata": {
    "execution": {
     "iopub.execute_input": "2023-06-23T12:39:28.821820Z",
     "iopub.status.busy": "2023-06-23T12:39:28.820723Z",
     "iopub.status.idle": "2023-06-23T12:39:28.825726Z",
     "shell.execute_reply": "2023-06-23T12:39:28.824999Z"
    },
    "papermill": {
     "duration": 0.016836,
     "end_time": "2023-06-23T12:39:28.827924",
     "exception": false,
     "start_time": "2023-06-23T12:39:28.811088",
     "status": "completed"
    },
    "tags": []
   },
   "outputs": [],
   "source": [
    "model = SVR()"
   ]
  },
  {
   "cell_type": "code",
   "execution_count": 12,
   "id": "684f2103",
   "metadata": {
    "execution": {
     "iopub.execute_input": "2023-06-23T12:39:28.846220Z",
     "iopub.status.busy": "2023-06-23T12:39:28.845460Z",
     "iopub.status.idle": "2023-06-23T12:39:28.850753Z",
     "shell.execute_reply": "2023-06-23T12:39:28.850005Z"
    },
    "papermill": {
     "duration": 0.016826,
     "end_time": "2023-06-23T12:39:28.852868",
     "exception": false,
     "start_time": "2023-06-23T12:39:28.836042",
     "status": "completed"
    },
    "tags": []
   },
   "outputs": [],
   "source": [
    "param_grid = {\n",
    "    'C': [0.1, 1, 10,100,0.01],\n",
    "    'epsilon': [0.01, 0.1, 1,0.2,0.3,0.4],\n",
    "    'gamma': ['scale', 'auto'],\n",
    "    'kernel':['rbf','linear']\n",
    "}"
   ]
  },
  {
   "cell_type": "code",
   "execution_count": 13,
   "id": "9f4fdd07",
   "metadata": {
    "execution": {
     "iopub.execute_input": "2023-06-23T12:39:28.871511Z",
     "iopub.status.busy": "2023-06-23T12:39:28.870872Z",
     "iopub.status.idle": "2023-06-23T12:39:28.875654Z",
     "shell.execute_reply": "2023-06-23T12:39:28.874904Z"
    },
    "papermill": {
     "duration": 0.016371,
     "end_time": "2023-06-23T12:39:28.877690",
     "exception": false,
     "start_time": "2023-06-23T12:39:28.861319",
     "status": "completed"
    },
    "tags": []
   },
   "outputs": [],
   "source": [
    "grid_search = GridSearchCV(model, param_grid, cv=6, scoring='neg_mean_squared_error')\n"
   ]
  },
  {
   "cell_type": "code",
   "execution_count": 14,
   "id": "38406ce2",
   "metadata": {
    "execution": {
     "iopub.execute_input": "2023-06-23T12:39:28.895772Z",
     "iopub.status.busy": "2023-06-23T12:39:28.895191Z",
     "iopub.status.idle": "2023-06-23T12:43:15.184521Z",
     "shell.execute_reply": "2023-06-23T12:43:15.183274Z"
    },
    "papermill": {
     "duration": 226.301654,
     "end_time": "2023-06-23T12:43:15.187337",
     "exception": false,
     "start_time": "2023-06-23T12:39:28.885683",
     "status": "completed"
    },
    "tags": []
   },
   "outputs": [],
   "source": [
    "grid_search.fit(X_train, y_train)\n",
    "best_model = grid_search.best_estimator_\n",
    "best_params = grid_search.best_params_"
   ]
  },
  {
   "cell_type": "code",
   "execution_count": 15,
   "id": "52f3afaa",
   "metadata": {
    "execution": {
     "iopub.execute_input": "2023-06-23T12:43:15.206894Z",
     "iopub.status.busy": "2023-06-23T12:43:15.206516Z",
     "iopub.status.idle": "2023-06-23T12:43:15.250533Z",
     "shell.execute_reply": "2023-06-23T12:43:15.249450Z"
    },
    "papermill": {
     "duration": 0.056421,
     "end_time": "2023-06-23T12:43:15.253113",
     "exception": false,
     "start_time": "2023-06-23T12:43:15.196692",
     "status": "completed"
    },
    "tags": []
   },
   "outputs": [],
   "source": [
    "y_pred = best_model.predict(X_val)"
   ]
  },
  {
   "cell_type": "code",
   "execution_count": 16,
   "id": "608a0d98",
   "metadata": {
    "execution": {
     "iopub.execute_input": "2023-06-23T12:43:15.272075Z",
     "iopub.status.busy": "2023-06-23T12:43:15.271168Z",
     "iopub.status.idle": "2023-06-23T12:43:15.278710Z",
     "shell.execute_reply": "2023-06-23T12:43:15.277503Z"
    },
    "papermill": {
     "duration": 0.019798,
     "end_time": "2023-06-23T12:43:15.281405",
     "exception": false,
     "start_time": "2023-06-23T12:43:15.261607",
     "status": "completed"
    },
    "tags": []
   },
   "outputs": [
    {
     "name": "stdout",
     "output_type": "stream",
     "text": [
      "3.7071621120066993\n"
     ]
    }
   ],
   "source": [
    "error= mean_squared_error(y_val, y_pred)\n",
    "print(error)"
   ]
  },
  {
   "cell_type": "code",
   "execution_count": 17,
   "id": "702dd92d",
   "metadata": {
    "execution": {
     "iopub.execute_input": "2023-06-23T12:43:15.299808Z",
     "iopub.status.busy": "2023-06-23T12:43:15.299431Z",
     "iopub.status.idle": "2023-06-23T12:43:15.306651Z",
     "shell.execute_reply": "2023-06-23T12:43:15.305492Z"
    },
    "papermill": {
     "duration": 0.01922,
     "end_time": "2023-06-23T12:43:15.308881",
     "exception": false,
     "start_time": "2023-06-23T12:43:15.289661",
     "status": "completed"
    },
    "tags": []
   },
   "outputs": [
    {
     "data": {
      "text/plain": [
       "1.9253992084777378"
      ]
     },
     "execution_count": 17,
     "metadata": {},
     "output_type": "execute_result"
    }
   ],
   "source": [
    "np.sqrt(error)"
   ]
  },
  {
   "cell_type": "code",
   "execution_count": 18,
   "id": "d9f502a6",
   "metadata": {
    "execution": {
     "iopub.execute_input": "2023-06-23T12:43:15.327562Z",
     "iopub.status.busy": "2023-06-23T12:43:15.327182Z",
     "iopub.status.idle": "2023-06-23T12:43:15.341448Z",
     "shell.execute_reply": "2023-06-23T12:43:15.340293Z"
    },
    "papermill": {
     "duration": 0.026671,
     "end_time": "2023-06-23T12:43:15.344054",
     "exception": false,
     "start_time": "2023-06-23T12:43:15.317383",
     "status": "completed"
    },
    "tags": []
   },
   "outputs": [],
   "source": [
    "test_data = pd.read_csv(\"/kaggle/input/practice-hackathon/Test.csv\")"
   ]
  },
  {
   "cell_type": "code",
   "execution_count": 19,
   "id": "b8360843",
   "metadata": {
    "execution": {
     "iopub.execute_input": "2023-06-23T12:43:15.363025Z",
     "iopub.status.busy": "2023-06-23T12:43:15.362539Z",
     "iopub.status.idle": "2023-06-23T12:43:15.370081Z",
     "shell.execute_reply": "2023-06-23T12:43:15.368815Z"
    },
    "papermill": {
     "duration": 0.019791,
     "end_time": "2023-06-23T12:43:15.372299",
     "exception": false,
     "start_time": "2023-06-23T12:43:15.352508",
     "status": "completed"
    },
    "tags": []
   },
   "outputs": [
    {
     "data": {
      "text/plain": [
       "(1045, 9)"
      ]
     },
     "execution_count": 19,
     "metadata": {},
     "output_type": "execute_result"
    }
   ],
   "source": [
    "test_data.shape"
   ]
  },
  {
   "cell_type": "code",
   "execution_count": 20,
   "id": "91c6f672",
   "metadata": {
    "execution": {
     "iopub.execute_input": "2023-06-23T12:43:15.392163Z",
     "iopub.status.busy": "2023-06-23T12:43:15.391677Z",
     "iopub.status.idle": "2023-06-23T12:43:15.412391Z",
     "shell.execute_reply": "2023-06-23T12:43:15.411003Z"
    },
    "papermill": {
     "duration": 0.033852,
     "end_time": "2023-06-23T12:43:15.414759",
     "exception": false,
     "start_time": "2023-06-23T12:43:15.380907",
     "status": "completed"
    },
    "tags": []
   },
   "outputs": [
    {
     "data": {
      "text/html": [
       "<div>\n",
       "<style scoped>\n",
       "    .dataframe tbody tr th:only-of-type {\n",
       "        vertical-align: middle;\n",
       "    }\n",
       "\n",
       "    .dataframe tbody tr th {\n",
       "        vertical-align: top;\n",
       "    }\n",
       "\n",
       "    .dataframe thead th {\n",
       "        text-align: right;\n",
       "    }\n",
       "</style>\n",
       "<table border=\"1\" class=\"dataframe\">\n",
       "  <thead>\n",
       "    <tr style=\"text-align: right;\">\n",
       "      <th></th>\n",
       "      <th>Index</th>\n",
       "      <th>A</th>\n",
       "      <th>B</th>\n",
       "      <th>C</th>\n",
       "      <th>D</th>\n",
       "      <th>E</th>\n",
       "      <th>F</th>\n",
       "      <th>G</th>\n",
       "      <th>H</th>\n",
       "    </tr>\n",
       "  </thead>\n",
       "  <tbody>\n",
       "    <tr>\n",
       "      <th>0</th>\n",
       "      <td>866</td>\n",
       "      <td>M</td>\n",
       "      <td>0.605</td>\n",
       "      <td>0.455</td>\n",
       "      <td>0.160</td>\n",
       "      <td>1.1035</td>\n",
       "      <td>0.4210</td>\n",
       "      <td>0.3015</td>\n",
       "      <td>0.325</td>\n",
       "    </tr>\n",
       "    <tr>\n",
       "      <th>1</th>\n",
       "      <td>1483</td>\n",
       "      <td>M</td>\n",
       "      <td>0.590</td>\n",
       "      <td>0.440</td>\n",
       "      <td>0.150</td>\n",
       "      <td>0.8725</td>\n",
       "      <td>0.3870</td>\n",
       "      <td>0.2150</td>\n",
       "      <td>0.245</td>\n",
       "    </tr>\n",
       "    <tr>\n",
       "      <th>2</th>\n",
       "      <td>599</td>\n",
       "      <td>F</td>\n",
       "      <td>0.560</td>\n",
       "      <td>0.445</td>\n",
       "      <td>0.195</td>\n",
       "      <td>0.9810</td>\n",
       "      <td>0.3050</td>\n",
       "      <td>0.2245</td>\n",
       "      <td>0.335</td>\n",
       "    </tr>\n",
       "    <tr>\n",
       "      <th>3</th>\n",
       "      <td>1702</td>\n",
       "      <td>F</td>\n",
       "      <td>0.635</td>\n",
       "      <td>0.490</td>\n",
       "      <td>0.170</td>\n",
       "      <td>1.2615</td>\n",
       "      <td>0.5385</td>\n",
       "      <td>0.2665</td>\n",
       "      <td>0.380</td>\n",
       "    </tr>\n",
       "    <tr>\n",
       "      <th>4</th>\n",
       "      <td>670</td>\n",
       "      <td>M</td>\n",
       "      <td>0.475</td>\n",
       "      <td>0.385</td>\n",
       "      <td>0.145</td>\n",
       "      <td>0.6175</td>\n",
       "      <td>0.2350</td>\n",
       "      <td>0.1080</td>\n",
       "      <td>0.215</td>\n",
       "    </tr>\n",
       "  </tbody>\n",
       "</table>\n",
       "</div>"
      ],
      "text/plain": [
       "   Index  A      B      C      D       E       F       G      H\n",
       "0    866  M  0.605  0.455  0.160  1.1035  0.4210  0.3015  0.325\n",
       "1   1483  M  0.590  0.440  0.150  0.8725  0.3870  0.2150  0.245\n",
       "2    599  F  0.560  0.445  0.195  0.9810  0.3050  0.2245  0.335\n",
       "3   1702  F  0.635  0.490  0.170  1.2615  0.5385  0.2665  0.380\n",
       "4    670  M  0.475  0.385  0.145  0.6175  0.2350  0.1080  0.215"
      ]
     },
     "execution_count": 20,
     "metadata": {},
     "output_type": "execute_result"
    }
   ],
   "source": [
    "test_data.head()"
   ]
  },
  {
   "cell_type": "code",
   "execution_count": 21,
   "id": "43475162",
   "metadata": {
    "execution": {
     "iopub.execute_input": "2023-06-23T12:43:15.435048Z",
     "iopub.status.busy": "2023-06-23T12:43:15.433754Z",
     "iopub.status.idle": "2023-06-23T12:43:15.440685Z",
     "shell.execute_reply": "2023-06-23T12:43:15.439672Z"
    },
    "papermill": {
     "duration": 0.019368,
     "end_time": "2023-06-23T12:43:15.442909",
     "exception": false,
     "start_time": "2023-06-23T12:43:15.423541",
     "status": "completed"
    },
    "tags": []
   },
   "outputs": [],
   "source": [
    "test_data['A']= label_encoder.fit_transform(test_data['A'])"
   ]
  },
  {
   "cell_type": "code",
   "execution_count": 22,
   "id": "4d068baf",
   "metadata": {
    "execution": {
     "iopub.execute_input": "2023-06-23T12:43:15.463492Z",
     "iopub.status.busy": "2023-06-23T12:43:15.462163Z",
     "iopub.status.idle": "2023-06-23T12:43:15.469524Z",
     "shell.execute_reply": "2023-06-23T12:43:15.468467Z"
    },
    "papermill": {
     "duration": 0.020124,
     "end_time": "2023-06-23T12:43:15.471990",
     "exception": false,
     "start_time": "2023-06-23T12:43:15.451866",
     "status": "completed"
    },
    "tags": []
   },
   "outputs": [],
   "source": [
    "Index=test_data['Index']\n",
    "test_data.drop(['Index'],axis=1,inplace=True)\n"
   ]
  },
  {
   "cell_type": "code",
   "execution_count": 23,
   "id": "3a49d18f",
   "metadata": {
    "execution": {
     "iopub.execute_input": "2023-06-23T12:43:15.493010Z",
     "iopub.status.busy": "2023-06-23T12:43:15.491992Z",
     "iopub.status.idle": "2023-06-23T12:43:15.633043Z",
     "shell.execute_reply": "2023-06-23T12:43:15.631814Z"
    },
    "papermill": {
     "duration": 0.154109,
     "end_time": "2023-06-23T12:43:15.635548",
     "exception": false,
     "start_time": "2023-06-23T12:43:15.481439",
     "status": "completed"
    },
    "tags": []
   },
   "outputs": [],
   "source": [
    "y_test = best_model.predict(test_data.drop([\"A\"],axis=1))"
   ]
  },
  {
   "cell_type": "code",
   "execution_count": 24,
   "id": "d8b6e110",
   "metadata": {
    "execution": {
     "iopub.execute_input": "2023-06-23T12:43:15.655415Z",
     "iopub.status.busy": "2023-06-23T12:43:15.654696Z",
     "iopub.status.idle": "2023-06-23T12:43:15.663795Z",
     "shell.execute_reply": "2023-06-23T12:43:15.662657Z"
    },
    "papermill": {
     "duration": 0.021837,
     "end_time": "2023-06-23T12:43:15.666456",
     "exception": false,
     "start_time": "2023-06-23T12:43:15.644619",
     "status": "completed"
    },
    "tags": []
   },
   "outputs": [],
   "source": [
    "result = pd.DataFrame(Index, columns = ['Index'])\n",
    "result['Target']= y_test"
   ]
  },
  {
   "cell_type": "code",
   "execution_count": 25,
   "id": "7f18c897",
   "metadata": {
    "execution": {
     "iopub.execute_input": "2023-06-23T12:43:15.685715Z",
     "iopub.status.busy": "2023-06-23T12:43:15.685321Z",
     "iopub.status.idle": "2023-06-23T12:43:15.698783Z",
     "shell.execute_reply": "2023-06-23T12:43:15.697692Z"
    },
    "papermill": {
     "duration": 0.02557,
     "end_time": "2023-06-23T12:43:15.700923",
     "exception": false,
     "start_time": "2023-06-23T12:43:15.675353",
     "status": "completed"
    },
    "tags": []
   },
   "outputs": [
    {
     "data": {
      "text/html": [
       "<div>\n",
       "<style scoped>\n",
       "    .dataframe tbody tr th:only-of-type {\n",
       "        vertical-align: middle;\n",
       "    }\n",
       "\n",
       "    .dataframe tbody tr th {\n",
       "        vertical-align: top;\n",
       "    }\n",
       "\n",
       "    .dataframe thead th {\n",
       "        text-align: right;\n",
       "    }\n",
       "</style>\n",
       "<table border=\"1\" class=\"dataframe\">\n",
       "  <thead>\n",
       "    <tr style=\"text-align: right;\">\n",
       "      <th></th>\n",
       "      <th>Index</th>\n",
       "      <th>Target</th>\n",
       "    </tr>\n",
       "  </thead>\n",
       "  <tbody>\n",
       "    <tr>\n",
       "      <th>0</th>\n",
       "      <td>866</td>\n",
       "      <td>11.680499</td>\n",
       "    </tr>\n",
       "    <tr>\n",
       "      <th>1</th>\n",
       "      <td>1483</td>\n",
       "      <td>9.491633</td>\n",
       "    </tr>\n",
       "    <tr>\n",
       "      <th>2</th>\n",
       "      <td>599</td>\n",
       "      <td>15.493422</td>\n",
       "    </tr>\n",
       "    <tr>\n",
       "      <th>3</th>\n",
       "      <td>1702</td>\n",
       "      <td>11.513508</td>\n",
       "    </tr>\n",
       "    <tr>\n",
       "      <th>4</th>\n",
       "      <td>670</td>\n",
       "      <td>11.569241</td>\n",
       "    </tr>\n",
       "    <tr>\n",
       "      <th>...</th>\n",
       "      <td>...</td>\n",
       "      <td>...</td>\n",
       "    </tr>\n",
       "    <tr>\n",
       "      <th>1040</th>\n",
       "      <td>532</td>\n",
       "      <td>9.464389</td>\n",
       "    </tr>\n",
       "    <tr>\n",
       "      <th>1041</th>\n",
       "      <td>3417</td>\n",
       "      <td>9.227268</td>\n",
       "    </tr>\n",
       "    <tr>\n",
       "      <th>1042</th>\n",
       "      <td>1505</td>\n",
       "      <td>11.558474</td>\n",
       "    </tr>\n",
       "    <tr>\n",
       "      <th>1043</th>\n",
       "      <td>2245</td>\n",
       "      <td>11.429854</td>\n",
       "    </tr>\n",
       "    <tr>\n",
       "      <th>1044</th>\n",
       "      <td>2428</td>\n",
       "      <td>9.129046</td>\n",
       "    </tr>\n",
       "  </tbody>\n",
       "</table>\n",
       "<p>1045 rows × 2 columns</p>\n",
       "</div>"
      ],
      "text/plain": [
       "      Index     Target\n",
       "0       866  11.680499\n",
       "1      1483   9.491633\n",
       "2       599  15.493422\n",
       "3      1702  11.513508\n",
       "4       670  11.569241\n",
       "...     ...        ...\n",
       "1040    532   9.464389\n",
       "1041   3417   9.227268\n",
       "1042   1505  11.558474\n",
       "1043   2245  11.429854\n",
       "1044   2428   9.129046\n",
       "\n",
       "[1045 rows x 2 columns]"
      ]
     },
     "execution_count": 25,
     "metadata": {},
     "output_type": "execute_result"
    }
   ],
   "source": [
    "result"
   ]
  },
  {
   "cell_type": "code",
   "execution_count": 26,
   "id": "623e5a55",
   "metadata": {
    "execution": {
     "iopub.execute_input": "2023-06-23T12:43:15.722357Z",
     "iopub.status.busy": "2023-06-23T12:43:15.721995Z",
     "iopub.status.idle": "2023-06-23T12:43:15.735259Z",
     "shell.execute_reply": "2023-06-23T12:43:15.734069Z"
    },
    "papermill": {
     "duration": 0.02647,
     "end_time": "2023-06-23T12:43:15.737800",
     "exception": false,
     "start_time": "2023-06-23T12:43:15.711330",
     "status": "completed"
    },
    "tags": []
   },
   "outputs": [],
   "source": [
    "result.to_csv(\"2090_Kashish.csv\", index=False) #(for making submission file)"
   ]
  },
  {
   "cell_type": "code",
   "execution_count": null,
   "id": "a69565a4",
   "metadata": {
    "papermill": {
     "duration": 0.008546,
     "end_time": "2023-06-23T12:43:15.755339",
     "exception": false,
     "start_time": "2023-06-23T12:43:15.746793",
     "status": "completed"
    },
    "tags": []
   },
   "outputs": [],
   "source": []
  },
  {
   "cell_type": "code",
   "execution_count": 27,
   "id": "d992f17a",
   "metadata": {
    "execution": {
     "iopub.execute_input": "2023-06-23T12:43:15.775422Z",
     "iopub.status.busy": "2023-06-23T12:43:15.774490Z",
     "iopub.status.idle": "2023-06-23T12:43:15.782105Z",
     "shell.execute_reply": "2023-06-23T12:43:15.781018Z"
    },
    "papermill": {
     "duration": 0.019937,
     "end_time": "2023-06-23T12:43:15.784287",
     "exception": false,
     "start_time": "2023-06-23T12:43:15.764350",
     "status": "completed"
    },
    "tags": []
   },
   "outputs": [
    {
     "data": {
      "text/plain": [
       "'from sklearn.preprocessing import StandardScaler\\nscaler = StandardScaler()\\n\\n# Fit the scaler on the training data\\nscaler.fit(X_train)\\n\\n# Transform the training and testing data\\nX_train = scaler.transform(X_train)\\nX_test = scaler.transform(X_val)\\nfrom sklearn.model_selection import cross_val_score\\nfrom sklearn import svm\\nsvm_model = svm.SVR()\\nscores = cross_val_score(svm_model, X_train, y_train, cv=5, scoring=\\'r2\\')\\nsvm_model.fit(X_train, y_train)\\n\\n# Evaluate the model on the testing data\\nr2_score = svm_model.score(X_val, y_val)\\n\\nprint(\"Final R-squared:\", r2_score)\\ny_pred=svm_model.predict(X_val)'"
      ]
     },
     "execution_count": 27,
     "metadata": {},
     "output_type": "execute_result"
    }
   ],
   "source": [
    "\n",
    "'''from sklearn.preprocessing import StandardScaler\n",
    "scaler = StandardScaler()\n",
    "\n",
    "# Fit the scaler on the training data\n",
    "scaler.fit(X_train)\n",
    "\n",
    "# Transform the training and testing data\n",
    "X_train = scaler.transform(X_train)\n",
    "X_test = scaler.transform(X_val)\n",
    "from sklearn.model_selection import cross_val_score\n",
    "from sklearn import svm\n",
    "svm_model = svm.SVR()\n",
    "scores = cross_val_score(svm_model, X_train, y_train, cv=5, scoring='r2')\n",
    "svm_model.fit(X_train, y_train)\n",
    "\n",
    "# Evaluate the model on the testing data\n",
    "r2_score = svm_model.score(X_val, y_val)\n",
    "\n",
    "print(\"Final R-squared:\", r2_score)\n",
    "y_pred=svm_model.predict(X_val)'''\n"
   ]
  }
 ],
 "metadata": {
  "kernelspec": {
   "display_name": "Python 3",
   "language": "python",
   "name": "python3"
  },
  "language_info": {
   "codemirror_mode": {
    "name": "ipython",
    "version": 3
   },
   "file_extension": ".py",
   "mimetype": "text/x-python",
   "name": "python",
   "nbconvert_exporter": "python",
   "pygments_lexer": "ipython3",
   "version": "3.10.10"
  },
  "papermill": {
   "default_parameters": {},
   "duration": 242.80911,
   "end_time": "2023-06-23T12:43:16.815544",
   "environment_variables": {},
   "exception": null,
   "input_path": "__notebook__.ipynb",
   "output_path": "__notebook__.ipynb",
   "parameters": {},
   "start_time": "2023-06-23T12:39:14.006434",
   "version": "2.4.0"
  }
 },
 "nbformat": 4,
 "nbformat_minor": 5
}
